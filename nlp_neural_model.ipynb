{
  "nbformat": 4,
  "nbformat_minor": 0,
  "metadata": {
    "colab": {
      "provenance": [],
      "authorship_tag": "ABX9TyNgqtbwLNW7teCuKFA7Ymkb",
      "include_colab_link": true
    },
    "kernelspec": {
      "name": "python3",
      "display_name": "Python 3"
    },
    "language_info": {
      "name": "python"
    },
    "gpuClass": "standard"
  },
  "cells": [
    {
      "cell_type": "markdown",
      "metadata": {
        "id": "view-in-github",
        "colab_type": "text"
      },
      "source": [
        "<a href=\"https://colab.research.google.com/github/SiddanshChawla/Sentiment-Analysis/blob/main/nlp_neural_model.ipynb\" target=\"_parent\"><img src=\"https://colab.research.google.com/assets/colab-badge.svg\" alt=\"Open In Colab\"/></a>"
      ]
    },
    {
      "cell_type": "code",
      "execution_count": null,
      "metadata": {
        "colab": {
          "base_uri": "https://localhost:8080/"
        },
        "id": "HMtTtNdtRaGA",
        "outputId": "466e10ca-6799-4ecd-de7c-41b62aa4187c"
      },
      "outputs": [
        {
          "output_type": "stream",
          "name": "stderr",
          "text": [
            "[nltk_data] Downloading package stopwords to /root/nltk_data...\n",
            "[nltk_data]   Unzipping corpora/stopwords.zip.\n",
            "[nltk_data] Downloading package punkt to /root/nltk_data...\n",
            "[nltk_data]   Unzipping tokenizers/punkt.zip.\n"
          ]
        },
        {
          "output_type": "stream",
          "name": "stdout",
          "text": [
            "<class 'pandas.core.frame.DataFrame'>\n",
            "RangeIndex: 4846 entries, 0 to 4845\n",
            "Data columns (total 3 columns):\n",
            " #   Column     Non-Null Count  Dtype \n",
            "---  ------     --------------  ----- \n",
            " 0   sentiment  4846 non-null   object\n",
            " 1   text       4846 non-null   object\n",
            " 2   tokens     4846 non-null   object\n",
            "dtypes: object(3)\n",
            "memory usage: 113.7+ KB\n"
          ]
        }
      ],
      "source": [
        "import pandas as pd\n",
        "\n",
        "data = pd.read_csv('all-data.csv', encoding='iso-8859-1', names=['sentiment', 'text'])\n",
        "\n",
        "data.head()\n",
        "\n",
        "import nltk\n",
        "from nltk.corpus import stopwords\n",
        "from nltk.tokenize import word_tokenize\n",
        "import re\n",
        "\n",
        "nltk.download(\"stopwords\")\n",
        "nltk.download('punkt')\n",
        "\n",
        "stopwords = set(stopwords.words('english'))\n",
        "\n",
        "def process_text(text):\n",
        "    pattern = '[^a-zA-Z]+'\n",
        "    tokens = word_tokenize(text)\n",
        "    tokens = [token for token in tokens if token not in stopwords]\n",
        "    tokens = [re.sub(pattern, '', token) for token in tokens]\n",
        "    return tokens\n",
        "\n",
        "data['tokens'] = data['text'].apply(process_text)\n",
        "\n",
        "data.head()\n",
        "\n",
        "data.info()\n",
        "\n",
        "from sklearn.model_selection import train_test_split\n",
        "import random\n",
        "\n",
        "x_train, x_test, y_train, y_test = train_test_split(data['tokens'], data['sentiment'], test_size=0.2, random_state=42)\n",
        "\n",
        "def document_features(document, word_features):\n",
        "    document_words = set(document)\n",
        "    features = {}\n",
        "    for word in word_features:\n",
        "        features['contains({})'.format(word)] = (word in document_words)\n",
        "    return features\n",
        "\n",
        "all_words = nltk.FreqDist(word for doc in x_train for word in doc)\n",
        "word_features = list(all_words.keys())[:1000]\n",
        "\n",
        "train_features = [(document_features(d, word_features), s) for d, s in zip(x_train, y_train)]\n",
        "test_features = [(document_features(d, word_features), s) for d, s in zip(x_test, y_test)]"
      ]
    },
    {
      "cell_type": "code",
      "source": [
        "from tensorflow.keras.models import Sequential\n",
        "from tensorflow.keras.layers import Embedding, LSTM, Dense\n",
        "from tensorflow.keras.preprocessing.sequence import pad_sequences\n",
        "from tensorflow.keras.preprocessing.text import Tokenizer"
      ],
      "metadata": {
        "id": "jGH8OjX2R943"
      },
      "execution_count": null,
      "outputs": []
    },
    {
      "cell_type": "code",
      "source": [
        "# Preprocess the data\n",
        "tokenizer = Tokenizer(num_words=5000, lower=True)\n",
        "tokenizer.fit_on_texts(data['text'])\n",
        "sequences = tokenizer.texts_to_sequences(data['text'])\n",
        "padded_sequences = pad_sequences(sequences, maxlen=100)"
      ],
      "metadata": {
        "id": "J2JpKpA5SUzt"
      },
      "execution_count": null,
      "outputs": []
    },
    {
      "cell_type": "code",
      "source": [
        "import numpy as np"
      ],
      "metadata": {
        "id": "PcW9iLXiV0KG"
      },
      "execution_count": null,
      "outputs": []
    },
    {
      "cell_type": "code",
      "source": [
        "label_map = {'positive': 1, 'negative': -1, 'neutral': 0}\n",
        "\n",
        "# Convert the list of strings to a list of numeric values\n",
        "numeric_labels = [label_map[label] for label in data['sentiment']]\n",
        "list_input = np.array(numeric_labels)"
      ],
      "metadata": {
        "id": "TgjMPla3Uslp"
      },
      "execution_count": null,
      "outputs": []
    },
    {
      "cell_type": "code",
      "source": [
        "# Split the data into training and testing sets\n",
        "X_train_rnn, X_test_rnn, y_train_rnn, y_test_rnn = train_test_split(padded_sequences, list_input, test_size=0.2, random_state=42)"
      ],
      "metadata": {
        "id": "mIUFi_uDSZ1D"
      },
      "execution_count": null,
      "outputs": []
    },
    {
      "cell_type": "code",
      "source": [
        "# Define the model architecture\n",
        "model = Sequential()\n",
        "model.add(Embedding(input_dim=5000, output_dim=64, input_length=100))\n",
        "model.add(LSTM(64, dropout=0.2, recurrent_dropout=0.2))\n",
        "model.add(Dense(1, activation='sigmoid'))"
      ],
      "metadata": {
        "id": "-JhjKuIfShLN"
      },
      "execution_count": null,
      "outputs": []
    },
    {
      "cell_type": "code",
      "source": [
        "# Compile the model\n",
        "model.compile(loss='binary_crossentropy', optimizer='adam', metrics=['accuracy'])"
      ],
      "metadata": {
        "id": "D25rmZ5rSidn"
      },
      "execution_count": null,
      "outputs": []
    },
    {
      "cell_type": "code",
      "source": [
        "# Train the model\n",
        "model.fit(X_train_rnn, y_train_rnn, epochs=10, batch_size=32)"
      ],
      "metadata": {
        "colab": {
          "base_uri": "https://localhost:8080/"
        },
        "id": "AJL7O7i3SmRK",
        "outputId": "24fc97cd-9b3c-4aad-a976-c337c192fe7f"
      },
      "execution_count": null,
      "outputs": [
        {
          "output_type": "stream",
          "name": "stdout",
          "text": [
            "Epoch 1/10\n",
            "122/122 [==============================] - 24s 175ms/step - loss: 0.4285 - accuracy: 0.5939\n",
            "Epoch 2/10\n",
            "122/122 [==============================] - 23s 184ms/step - loss: -0.1497 - accuracy: 0.6656\n",
            "Epoch 3/10\n",
            "122/122 [==============================] - 25s 203ms/step - loss: -1.3297 - accuracy: 0.7291\n",
            "Epoch 4/10\n",
            "122/122 [==============================] - 24s 195ms/step - loss: -2.3856 - accuracy: 0.7539\n",
            "Epoch 5/10\n",
            "122/122 [==============================] - 22s 184ms/step - loss: -3.4516 - accuracy: 0.7755\n",
            "Epoch 6/10\n",
            "122/122 [==============================] - 21s 175ms/step - loss: -3.8060 - accuracy: 0.7469\n",
            "Epoch 7/10\n",
            "122/122 [==============================] - 23s 185ms/step - loss: -4.8269 - accuracy: 0.7781\n",
            "Epoch 8/10\n",
            "122/122 [==============================] - 23s 186ms/step - loss: -5.5376 - accuracy: 0.7773\n",
            "Epoch 9/10\n",
            "122/122 [==============================] - 21s 174ms/step - loss: -6.6489 - accuracy: 0.7918\n",
            "Epoch 10/10\n",
            "122/122 [==============================] - 22s 184ms/step - loss: -7.4004 - accuracy: 0.7959\n"
          ]
        },
        {
          "output_type": "execute_result",
          "data": {
            "text/plain": [
              "<keras.callbacks.History at 0x7fea769b80a0>"
            ]
          },
          "metadata": {},
          "execution_count": 27
        }
      ]
    },
    {
      "cell_type": "code",
      "source": [
        "import numpy as np\n",
        "from keras.models import Sequential\n",
        "from keras.layers import Dense, Embedding, Conv1D, GlobalMaxPooling1D\n",
        "from tensorflow.keras.preprocessing.sequence import pad_sequences\n",
        "from sklearn.model_selection import train_test_split"
      ],
      "metadata": {
        "id": "wbXL79pZSoFu"
      },
      "execution_count": null,
      "outputs": []
    },
    {
      "cell_type": "code",
      "source": [
        "\n",
        "# Split data into train and test sets\n",
        "X_train, X_test, y_train, y_test = train_test_split(X, y, test_size=0.2, random_state=42)\n"
      ],
      "metadata": {
        "id": "86aQ9K38Z7XH"
      },
      "execution_count": null,
      "outputs": []
    },
    {
      "cell_type": "code",
      "source": [
        "\n",
        "# Define CNN model architecture\n",
        "model = Sequential()\n",
        "model.add(Embedding(input_dim=5000, output_dim=32, input_length=100))\n",
        "model.add(Conv1D(filters=64, kernel_size=3, padding='same', activation='relu'))\n",
        "model.add(GlobalMaxPooling1D())\n",
        "model.add(Dense(1, activation='sigmoid'))"
      ],
      "metadata": {
        "id": "hFKyraZlaXBR"
      },
      "execution_count": null,
      "outputs": []
    },
    {
      "cell_type": "code",
      "source": [
        "\n",
        "# Compile model\n",
        "model.compile(loss='binary_crossentropy', optimizer='adam', metrics=['accuracy'])\n",
        "\n",
        "# Train model\n",
        "model.fit(X_train_rnn, y_train_rnn, batch_size=32, epochs=10, validation_data=(X_test_rnn, y_test_rnn))\n"
      ],
      "metadata": {
        "colab": {
          "base_uri": "https://localhost:8080/"
        },
        "id": "WGUxzI8BaYdt",
        "outputId": "30ec77ad-2498-453c-de34-a1688471d5da"
      },
      "execution_count": null,
      "outputs": [
        {
          "output_type": "stream",
          "name": "stdout",
          "text": [
            "Epoch 1/10\n",
            "122/122 [==============================] - 3s 13ms/step - loss: 0.4607 - accuracy: 0.5929 - val_loss: 0.4738 - val_accuracy: 0.5887\n",
            "Epoch 2/10\n",
            "122/122 [==============================] - 1s 12ms/step - loss: 0.2786 - accuracy: 0.6192 - val_loss: 0.1615 - val_accuracy: 0.6825\n",
            "Epoch 3/10\n",
            "122/122 [==============================] - 2s 14ms/step - loss: -0.3143 - accuracy: 0.6994 - val_loss: -0.4811 - val_accuracy: 0.6742\n",
            "Epoch 4/10\n",
            "122/122 [==============================] - 2s 20ms/step - loss: -2.4210 - accuracy: 0.7294 - val_loss: -3.0075 - val_accuracy: 0.6835\n",
            "Epoch 5/10\n",
            "122/122 [==============================] - 1s 12ms/step - loss: -8.4017 - accuracy: 0.7557 - val_loss: -9.1802 - val_accuracy: 0.6722\n",
            "Epoch 6/10\n",
            "122/122 [==============================] - 1s 12ms/step - loss: -20.5464 - accuracy: 0.7593 - val_loss: -19.5596 - val_accuracy: 0.6680\n",
            "Epoch 7/10\n",
            "122/122 [==============================] - 1s 12ms/step - loss: -41.1963 - accuracy: 0.7652 - val_loss: -36.2401 - val_accuracy: 0.6804\n",
            "Epoch 8/10\n",
            "122/122 [==============================] - 1s 12ms/step - loss: -72.2932 - accuracy: 0.7637 - val_loss: -59.9558 - val_accuracy: 0.6742\n",
            "Epoch 9/10\n",
            "122/122 [==============================] - 1s 12ms/step - loss: -115.1753 - accuracy: 0.7598 - val_loss: -92.3753 - val_accuracy: 0.6825\n",
            "Epoch 10/10\n",
            "122/122 [==============================] - 1s 11ms/step - loss: -170.9673 - accuracy: 0.7629 - val_loss: -131.9579 - val_accuracy: 0.6670\n"
          ]
        },
        {
          "output_type": "execute_result",
          "data": {
            "text/plain": [
              "<keras.callbacks.History at 0x7fea7658b130>"
            ]
          },
          "metadata": {},
          "execution_count": 39
        }
      ]
    },
    {
      "cell_type": "code",
      "source": [],
      "metadata": {
        "id": "h2pvceYNbJif"
      },
      "execution_count": null,
      "outputs": []
    }
  ]
}