{
 "cells": [
  {
   "cell_type": "code",
   "execution_count": 106,
   "id": "0025feae",
   "metadata": {},
   "outputs": [],
   "source": [
    "import pandas as pd\n",
    "import numpy as np"
   ]
  },
  {
   "cell_type": "code",
   "execution_count": null,
   "id": "0fef6842",
   "metadata": {},
   "outputs": [],
   "source": [
    "pip install newsapi-python"
   ]
  },
  {
   "cell_type": "code",
   "execution_count": null,
   "id": "ab02cc11",
   "metadata": {},
   "outputs": [],
   "source": [
    "pip install newspaper3k"
   ]
  },
  {
   "cell_type": "code",
   "execution_count": 107,
   "id": "9d4e5375",
   "metadata": {},
   "outputs": [],
   "source": [
    "from newsapi import NewsApiClient"
   ]
  },
  {
   "cell_type": "code",
   "execution_count": 108,
   "id": "bd498054",
   "metadata": {},
   "outputs": [],
   "source": [
    "from newsapi import NewsApiClient\n",
    "\n",
    "# Init\n",
    "newsapi = NewsApiClient(api_key='0eab831ebf9c402ba6f4f2312b355ad6')\n",
    "\n",
    "\n",
    "all_articles = newsapi.get_everything(q='Biden',\n",
    "                                      from_param='2023-02-16',\n",
    "                                      sources = 'reuters',\n",
    "                                      language='en',\n",
    "                                      sort_by='popularity')\n",
    "\n",
    "# /v2/top-headlines/sources\n",
    "sources = newsapi.get_sources()"
   ]
  },
  {
   "cell_type": "code",
   "execution_count": 109,
   "id": "ac2adc2c",
   "metadata": {},
   "outputs": [
    {
     "name": "stdout",
     "output_type": "stream",
     "text": [
      "4\n"
     ]
    }
   ],
   "source": [
    "print(all_articles['totalResults'])"
   ]
  },
  {
   "cell_type": "code",
   "execution_count": 110,
   "id": "45af57c2",
   "metadata": {},
   "outputs": [],
   "source": [
    "from newspaper import Article"
   ]
  },
  {
   "cell_type": "code",
   "execution_count": 111,
   "id": "84bc38af",
   "metadata": {},
   "outputs": [
    {
     "name": "stdout",
     "output_type": "stream",
     "text": [
      "['https://www.reuters.com/world/us/biden-80-have-closely-watched-physical-exam-2023-02-16/', 'https://www.reuters.com/world/us/fbi-searched-university-delaware-biden-documents-probe-cnn-2023-02-16/', 'https://www.reuters.com/world/europe/russia-says-us-should-prove-it-did-not-destroy-nord-stream-2023-02-16/', 'https://www.reuters.com/world/us/us-food-benefits-poor-shrink-pandemic-provisions-end-2023-02-16/']\n"
     ]
    }
   ],
   "source": [
    "list_1 = []\n",
    "for i in range(0, all_articles['totalResults']):\n",
    "    list_1.append(all_articles['articles'][i]['url'])\n",
    "print(list_1)"
   ]
  },
  {
   "cell_type": "code",
   "execution_count": 112,
   "id": "1f4e551c",
   "metadata": {},
   "outputs": [
    {
     "name": "stdout",
     "output_type": "stream",
     "text": [
      "[1/2] U.S. President Joe Biden delivers remarks on the economy at the IBEW Local 26 in Lanham, Maryland, U.S., February 15, 2023. REUTERS/Evelyn Hockstein\n",
      "\n",
      "\n",
      "\n",
      "\n",
      "\n",
      "\n",
      "\n",
      "\n",
      "\n",
      "\n",
      "\n",
      "\n",
      "\n",
      "\n",
      "\n",
      "WASHINGTON, Feb 16 (Reuters) - President Joe Biden, 80, will undergo a closely watched physical examination on Thursday, ahead of an expected announcement that he is seeking a second four-year term.\n",
      "\n",
      "Biden's session with the doctors at Walter Reed National Military Medical Center in nearby Bethesda, Maryland, will be his second extensive exam since he took office in January 2021.\n",
      "\n",
      "His last physical and colonoscopy, in November 2021, showed the president to be a \"healthy, vigorous, 78-year-old male,\" his doctors said. He had a polyp removed from his colon.\n",
      "\n",
      "Biden, already the oldest American to be president, has waved off questions about his age, and had a string of legislative successes in his first two years, but voters are concerned about another four.\n",
      "\n",
      "About three-quarters of Americans - including more than half of Democrats and the vast majority of Republicans - say Biden is too old to work in government, according to a Reuters/Ipsos poll conducted Feb. 6-13. Most Democratic respondents said the president remains mentally sharp but about half of them said he cannot handle the physical toll of the presidency.\n",
      "\n",
      "Biden would be 86 by the end of a prospective second term, making him 13 years older than the average life expectancy of an American male, according to 2020 U.S. Centers for Disease Control and Prevention (CDC) data.\n",
      "\n",
      "At his last exam, Biden's White House physician, Kevin O'Connor, declared him fit for duty and able to execute his responsibilities. O'Connor attributed Biden's stiff gait to spinal arthritis and \"peripheral neuropathy,\" or some loss of sensation in the feet.\n",
      "\n",
      "Biden's doctors will probably do a neurological exam on Thursday, as is typical with people in his age group who are more vulnerable to falls, Borna Bonakdarpour, an associate professor of neurology at Northwestern University's Feinberg School of Medicine, told Reuters.\n",
      "\n",
      "They are also likely to check Biden's eyes and hearing and \"anything else he may complain about,\" Dr Bonakdarpour said. Biden's cognition seemed good during the recent State of the Union address, the doctor said. Biden told Judy Woodruff in a PBS interview last week that any Americans concerned about his age should \"watch me\" perform the duties of the presidency.\n",
      "\n",
      "Additional reporting by Jason Lange; Editing by Heather Timmons, Robert Birsel\n",
      "\n",
      "\n",
      "\n",
      "\n",
      "\n",
      "\n",
      "\n",
      "\n",
      "\n",
      "\n",
      "\n",
      "Our Standards: The Thomson Reuters Trust Principles.\n",
      "\n",
      "\n",
      "\n",
      "\n",
      "\n",
      "\n",
      "\n",
      "\n",
      "\n",
      "\n",
      "\n",
      "\n",
      "\n",
      "\n",
      "Feb 15 (Reuters) - The FBI carried out two searches in recent weeks at the University of Delaware in connection to a probe into President Joe Biden's handling of classified documents, CNN reported on Wednesday, citing an unnamed source familiar with the investigation.\n",
      "\n",
      "The searches occurred with the consent and cooperation of Biden's legal team, the report added. The White House and FBI both declined to comment to Reuters and referred queries to the U.S. Department of Justice.\n",
      "\n",
      "Neither the Justice Department nor the University of Delaware immediately responded to separate emailed requests for comment from Reuters.\n",
      "\n",
      "Earlier this month, Biden's attorney said the U.S. Justice Department did not find documents with classified markings during a three-and-a-half hour search of the president's beach house in Rehoboth, Delaware, but did take some materials for further review.\n",
      "\n",
      "Materials were previously found at his home in Wilmington, Delaware, and at a Washington office he used during the time between his service as vice president under Barack Obama and his presidential election.\n",
      "\n",
      "The issue has created a political headache for Biden, who is expected to announce a re-election campaign in the coming weeks or months.\n",
      "\n",
      "Biden donated papers from his tenure as Delaware senator between 1973 and 2009 to the University of Delaware, according to the institution's website.\n",
      "\n",
      "\"Until the archival process is complete and the collection is opened to the public, access is only available with President Biden's express consent,\" it says, adding that Biden and his designees have access under supervision of Special Collections.\n",
      "\n",
      "Wednesday's CNN report said investigators retrieved materials that did not appear to have classified markings, but were now being reviewed by the FBI.\n",
      "\n",
      "Reporting by Costas Pitas in Los Angeles; additional reporting by Dan Whitcomb in Los Angeles and Jeff Mason in Washington; Editing by Chris Reese and Christopher Cushing\n",
      "\n",
      "\n",
      "\n",
      "\n",
      "\n",
      "\n",
      "\n",
      "\n",
      "\n",
      "\n",
      "\n",
      "Our Standards: The Thomson Reuters Trust Principles.\n",
      "\n",
      "\n",
      "\n",
      "\n",
      "\n",
      "\n",
      "\n",
      "\n",
      "\n",
      "\n",
      "\n",
      "\n",
      "\n",
      "\n",
      "Feb 16 (Reuters) - The United States should try to prove it was not behind the destruction of the Nord Stream gas pipelines that connected Russia to Western Europe, the Russian embassy to the United States said on Thursday.\n",
      "\n",
      "Moscow considers the destruction of Nord Stream 1 and Nord Stream 2 pipelines last September \"an act of international terrorism\" and will not allow it to be swept under the rug, the embassy said in a statement.\n",
      "\n",
      "The embassy referred to a blog post by journalist Seymour Hersh citing an unidentified source as saying that U.S. Navy divers had destroyed the pipelines with explosives on the orders of President Joe Biden.\n",
      "\n",
      "The White House has dismissed the allegations as \"utterly false and complete fiction\".\n",
      "\n",
      "U.S. Department of State spokesman Ned Price said on Wednesday \"it is pure disinformation that the United States was behind what transpired\" with Nord Stream, provoking the fresh Russian comment.\n",
      "\n",
      "Reporting by Olzhas Auyezov; Editing by Jacqueline Wong and Tom Hogue\n",
      "\n",
      "\n",
      "\n",
      "\n",
      "\n",
      "\n",
      "\n",
      "\n",
      "\n",
      "\n",
      "\n",
      "Our Standards: The Thomson Reuters Trust Principles.\n",
      "\n",
      "\n",
      "\n",
      "\n",
      "\n",
      "\n",
      "\n",
      "\n",
      "\n",
      "\n",
      "\n",
      "\n",
      "\n",
      "\n",
      "Feb 16 (Reuters) - Low-income Americans will soon receive less in food assistance or completely lose their eligibility for the benefits, as the federal government ends policies adopted at the beginning of the COVID-19 pandemic that kept millions from going hungry at a time of lockdowns and rising unemployment.\n",
      "\n",
      "Anti-hunger advocates warned that the looming drop in aid could undo progress toward a Biden administration goal to end U.S. hunger by 2030. The Republican-controlled U.S. House of Representatives may also pursue further cuts to food assistance to shrink the U.S. deficit.\n",
      "\n",
      "\"It’s going to put millions of households at risk of hunger,\" said Eric Mitchell, president of the Alliance to End Hunger.\n",
      "\n",
      "The changes mean cuts of about $82 a month beginning in March for recipients of Supplemental Nutrition Assistance Program (SNAP) benefits, said Ellen Vollinger of the Food Research & Action Center, an anti-hunger group. The average SNAP benefit will be about $157 after the reduction.\n",
      "\n",
      "Since Congress passed the Families First Coronavirus Response Act in March 2020, states have been able to allocate the maximum allowable benefits to SNAP recipients, instead of applying deductions tied to income and other factors.\n",
      "\n",
      "Initially, those \"emergency allotments\" were linked to the pandemic public health emergency. But in December's spending bill fight, Congress negotiated a compromise to end them in February in exchange for a new summer food program for children.\n",
      "\n",
      "President Joe Biden's administration has also said it will lift the coronavirus public health emergency in May. This will end other changes that expanded access to SNAP, like a suspension of the program's three-month time limit for adults without children and exemptions for some college students.\n",
      "\n",
      "In recent months, the additional benefits tied to the pandemic response have come to about $3 billion a month, according to the Center on Budget and Policy Priorities (CBPP).\n",
      "\n",
      "Those higher benefits kept the percentage of Americans experiencing food insecurity steady at 10% through 2021, even as the first two years of the pandemic drove up unemployment, said Dottie Rosenbaum, senior fellow and director of federal SNAP policy at CBPP.\n",
      "\n",
      "Meanwhile, food insufficiency - a more severe form of food insecurity wherein households sometimes or often do not have enough to eat - dropped by about 9%, according to a study by Northwestern University's Institute for Policy Research.\n",
      "\n",
      "A separate study from the Urban Institute said the benefits kept 4.2 million people out of poverty. Anti-hunger advocates worry the looming reduction in aid could reverse those gains.\n",
      "\n",
      "In states where expanded benefits have already ended, 29% of SNAP recipients visited food pantries in December, compared to 22% in states that still had the benefits, according to data collected by Propel, a technology company that makes financial products for low-income people.\n",
      "\n",
      "'WAY TOO LOW'\n",
      "\n",
      "Debate over U.S. spending on food assistance is likely to heat up in the coming months as lawmakers negotiate a new farm bill, a legislative package passed every five years that funds nutrition, commodity, and conservation programs.\n",
      "\n",
      "More than 76% of the current farm bill's $428 billion price tag went to food assistance programs that serve 41 million people annually. The bill expires on Sept. 30.\n",
      "\n",
      "Democrats generally support expanding benefits, while Republicans typically oppose expansion.\n",
      "\n",
      "\"The SNAP benefit was already way too low, even before the pandemic,\" Rep. Jim McGovern of Massachusetts, a Democrat on the House Agriculture Committee, told Reuters in an email.\n",
      "\n",
      "“We need to seriously boost benefit levels to reflect the reality of food costs today,\" he said.\n",
      "\n",
      "Food prices are up 10% since last year, according to the Bureau of Labor Statistics.\n",
      "\n",
      "House Republicans have indicated they might review and tighten SNAP work requirements as part of farm bill negotiations.\n",
      "\n",
      "The House Budget Committee has also floated cuts to SNAP as a means of reducing spending in the ongoing debt limit fight.\n",
      "\n",
      "Reporting by Leah Douglas; Editing by David Gregorio\n",
      "\n",
      "\n",
      "\n",
      "\n",
      "\n",
      "\n",
      "\n",
      "\n",
      "\n",
      "\n",
      "\n",
      "Our Standards: The Thomson Reuters Trust Principles.\n"
     ]
    }
   ],
   "source": [
    "for url in list_1:\n",
    "    article = Article(url)\n",
    "    article.download()\n",
    "    article.parse()\n",
    "    print(article.text)"
   ]
  },
  {
   "cell_type": "code",
   "execution_count": 114,
   "id": "76d91fae",
   "metadata": {},
   "outputs": [],
   "source": [
    "import nltk\n",
    "from nltk.corpus import stopwords"
   ]
  },
  {
   "cell_type": "code",
   "execution_count": 115,
   "id": "e715c47a",
   "metadata": {},
   "outputs": [
    {
     "name": "stderr",
     "output_type": "stream",
     "text": [
      "[nltk_data] Downloading package stopwords to\n",
      "[nltk_data]     /Users/siddansh/nltk_data...\n",
      "[nltk_data]   Package stopwords is already up-to-date!\n"
     ]
    },
    {
     "data": {
      "text/plain": [
       "True"
      ]
     },
     "execution_count": 115,
     "metadata": {},
     "output_type": "execute_result"
    }
   ],
   "source": [
    "nltk.download('stopwords')"
   ]
  },
  {
   "cell_type": "code",
   "execution_count": 119,
   "id": "38b01763",
   "metadata": {},
   "outputs": [],
   "source": [
    "stopwords = set(stopwords.words('english'))"
   ]
  },
  {
   "cell_type": "code",
   "execution_count": 123,
   "id": "8d78de49",
   "metadata": {},
   "outputs": [
    {
     "name": "stdout",
     "output_type": "stream",
     "text": [
      "{\"shouldn't\", 'himself', 'they', 'both', 'about', \"mightn't\", 'those', 'i', 'who', 'haven', 'my', 'them', 'very', 'any', 'in', 'most', 'y', 'a', 'after', 'doesn', \"you'd\", 'hers', 'yours', 'for', \"haven't\", \"needn't\", 'themselves', 'until', 'from', \"wasn't\", \"hasn't\", 'between', 'do', 'won', \"won't\", 'nor', 'more', 'all', \"hadn't\", 'ma', 'having', 'what', 'or', 'while', 'then', 't', 'am', 'own', 'doing', 'into', 'same', 'below', 'as', 'other', 'down', 'that', 'and', 'wouldn', 'which', 'herself', 'should', 'are', \"weren't\", 'itself', 'not', 'under', 'does', 'don', 'been', 'these', \"didn't\", \"mustn't\", 'whom', 'we', 'when', 'his', 'm', 'our', 'so', 'he', 'can', 'shan', \"couldn't\", 'why', 'theirs', 'yourselves', 'you', 'too', 'be', 'had', 'an', 're', 'yourself', 'above', 'hadn', 'her', \"should've\", 'if', 'against', \"don't\", 'ours', \"isn't\", \"you'll\", 'but', 'it', 'mustn', 'there', 'ain', \"aren't\", 'mightn', 's', 'ourselves', 'will', 'up', 'isn', 'this', 'some', 'where', 'no', \"wouldn't\", 'him', 'she', 'o', 'over', 'your', 'further', 'wasn', 'the', \"that'll\", 'of', 'to', 'couldn', 've', 'at', 'their', 'weren', 'now', 'through', 'its', 'few', 'me', 'off', 'didn', 'were', 'aren', 'is', 'out', 'with', 'only', 'just', 'once', \"doesn't\", \"shan't\", 'did', 'by', 'myself', 'how', 'each', 'because', \"you've\", 'than', 'again', 'd', 'll', 'shouldn', 'before', 'during', 'hasn', \"it's\", 'needn', 'such', 'here', 'being', 'on', 'have', 'was', 'has', \"you're\", \"she's\"}\n"
     ]
    }
   ],
   "source": [
    "print(stopwords)"
   ]
  },
  {
   "cell_type": "code",
   "execution_count": 130,
   "id": "409260a9",
   "metadata": {},
   "outputs": [
    {
     "name": "stdout",
     "output_type": "stream",
     "text": [
      "['', '', 'US', 'President', 'Joe', 'Biden', 'delivers', 'remarks', 'economy', 'IBEW', 'Local', 'Lanham', '', 'Maryland', '', 'US', '', 'February', '', '', 'REUTERSEvelyn', 'Hockstein', 'WASHINGTON', '', 'Feb', '', 'Reuters', '', '', 'President', 'Joe', 'Biden', '', '', 'undergo', 'closely', 'watched', 'physical', 'examination', 'Thursday', '', 'ahead', 'expected', 'announcement', 'seeking', 'second', 'fouryear', 'term', '', 'Biden', 'session', 'doctors', 'Walter', 'Reed', 'National', 'Military', 'Medical', 'Center', 'nearby', 'Bethesda', '', 'Maryland', '', 'second', 'extensive', 'exam', 'since', 'took', 'office', 'January', '', 'His', 'last', 'physical', 'colonoscopy', '', 'November', '', 'showed', 'president', '', 'healthy', '', 'vigorous', '', 'male', '', '', 'doctors', 'said', '', 'He', 'polyp', 'removed', 'colon', '', 'Biden', '', 'already', 'oldest', 'American', 'president', '', 'waved', 'questions', 'age', '', 'string', 'legislative', 'successes', 'first', 'two', 'years', '', 'voters', 'concerned', 'another', 'four', '', 'About', 'threequarters', 'Americans', '', 'including', 'half', 'Democrats', 'vast', 'majority', 'Republicans', '', 'say', 'Biden', 'old', 'work', 'government', '', 'according', 'ReutersIpsos', 'poll', 'conducted', 'Feb', '', 'Most', 'Democratic', 'respondents', 'said', 'president', 'remains', 'mentally', 'sharp', 'half', 'said', 'handle', 'physical', 'toll', 'presidency', '', 'Biden', 'would', 'end', 'prospective', 'second', 'term', '', 'making', 'years', 'older', 'average', 'life', 'expectancy', 'American', 'male', '', 'according', 'US', 'Centers', 'Disease', 'Control', 'Prevention', '', 'CDC', '', 'data', '', 'At', 'last', 'exam', '', 'Biden', 'White', 'House', 'physician', '', 'Kevin', 'OConnor', '', 'declared', 'fit', 'duty', 'able', 'execute', 'responsibilities', '', 'OConnor', 'attributed', 'Biden', 'stiff', 'gait', 'spinal', 'arthritis', '', 'peripheral', 'neuropathy', '', '', 'loss', 'sensation', 'feet', '', 'Biden', 'doctors', 'probably', 'neurological', 'exam', 'Thursday', '', 'typical', 'people', 'age', 'group', 'vulnerable', 'falls', '', 'Borna', 'Bonakdarpour', '', 'associate', 'professor', 'neurology', 'Northwestern', 'University', 'Feinberg', 'School', 'Medicine', '', 'told', 'Reuters', '', 'They', 'also', 'likely', 'check', 'Biden', 'eyes', 'hearing', '', 'anything', 'else', 'may', 'complain', '', '', 'Dr', 'Bonakdarpour', 'said', '', 'Biden', 'cognition', 'seemed', 'good', 'recent', 'State', 'Union', 'address', '', 'doctor', 'said', '', 'Biden', 'told', 'Judy', 'Woodruff', 'PBS', 'interview', 'last', 'week', 'Americans', 'concerned', 'age', '', 'watch', '', 'perform', 'duties', 'presidency', '', 'Additional', 'reporting', 'Jason', 'Lange', '', 'Editing', 'Heather', 'Timmons', '', 'Robert', 'Birsel', 'Our', 'Standards', '', 'The', 'Thomson', 'Reuters', 'Trust', 'Principles', '']\n",
      "['Feb', '', 'Reuters', '', '', 'The', 'FBI', 'carried', 'two', 'searches', 'recent', 'weeks', 'University', 'Delaware', 'connection', 'probe', 'President', 'Joe', 'Biden', 'handling', 'classified', 'documents', '', 'CNN', 'reported', 'Wednesday', '', 'citing', 'unnamed', 'source', 'familiar', 'investigation', '', 'The', 'searches', 'occurred', 'consent', 'cooperation', 'Biden', 'legal', 'team', '', 'report', 'added', '', 'The', 'White', 'House', 'FBI', 'declined', 'comment', 'Reuters', 'referred', 'queries', 'US', 'Department', 'Justice', '', 'Neither', 'Justice', 'Department', 'University', 'Delaware', 'immediately', 'responded', 'separate', 'emailed', 'requests', 'comment', 'Reuters', '', 'Earlier', 'month', '', 'Biden', 'attorney', 'said', 'US', 'Justice', 'Department', 'find', 'documents', 'classified', 'markings', 'threeandahalf', 'hour', 'search', 'president', 'beach', 'house', 'Rehoboth', '', 'Delaware', '', 'take', 'materials', 'review', '', 'Materials', 'previously', 'found', 'home', 'Wilmington', '', 'Delaware', '', 'Washington', 'office', 'used', 'time', 'service', 'vice', 'president', 'Barack', 'Obama', 'presidential', 'election', '', 'The', 'issue', 'created', 'political', 'headache', 'Biden', '', 'expected', 'announce', 'reelection', 'campaign', 'coming', 'weeks', 'months', '', 'Biden', 'donated', 'papers', 'tenure', 'Delaware', 'senator', 'University', 'Delaware', '', 'according', 'institution', 'website', '', '', 'Until', 'archival', 'process', 'complete', 'collection', 'opened', 'public', '', 'access', 'available', 'President', 'Biden', 'express', 'consent', '', '', 'says', '', 'adding', 'Biden', 'designees', 'access', 'supervision', 'Special', 'Collections', '', 'Wednesday', 'CNN', 'report', 'said', 'investigators', 'retrieved', 'materials', 'appear', 'classified', 'markings', '', 'reviewed', 'FBI', '', 'Reporting', 'Costas', 'Pitas', 'Los', 'Angeles', '', 'additional', 'reporting', 'Dan', 'Whitcomb', 'Los', 'Angeles', 'Jeff', 'Mason', 'Washington', '', 'Editing', 'Chris', 'Reese', 'Christopher', 'Cushing', 'Our', 'Standards', '', 'The', 'Thomson', 'Reuters', 'Trust', 'Principles', '']\n",
      "['Feb', '', 'Reuters', '', '', 'The', 'United', 'States', 'try', 'prove', 'behind', 'destruction', 'Nord', 'Stream', 'gas', 'pipelines', 'connected', 'Russia', 'Western', 'Europe', '', 'Russian', 'embassy', 'United', 'States', 'said', 'Thursday', '', 'Moscow', 'considers', 'destruction', 'Nord', 'Stream', 'Nord', 'Stream', 'pipelines', 'last', 'September', '', 'act', 'international', 'terrorism', '', 'allow', 'swept', 'rug', '', 'embassy', 'said', 'statement', '', 'The', 'embassy', 'referred', 'blog', 'post', 'journalist', 'Seymour', 'Hersh', 'citing', 'unidentified', 'source', 'saying', 'US', 'Navy', 'divers', 'destroyed', 'pipelines', 'explosives', 'orders', 'President', 'Joe', 'Biden', '', 'The', 'White', 'House', 'dismissed', 'allegations', '', 'utterly', 'false', 'complete', 'fiction', '', '', 'US', 'Department', 'State', 'spokesman', 'Ned', 'Price', 'said', 'Wednesday', '', 'pure', 'disinformation', 'United', 'States', 'behind', 'transpired', '', 'Nord', 'Stream', '', 'provoking', 'fresh', 'Russian', 'comment', '', 'Reporting', 'Olzhas', 'Auyezov', '', 'Editing', 'Jacqueline', 'Wong', 'Tom', 'Hogue', 'Our', 'Standards', '', 'The', 'Thomson', 'Reuters', 'Trust', 'Principles', '']\n",
      "['Feb', '', 'Reuters', '', '', 'Lowincome', 'Americans', 'soon', 'receive', 'less', 'food', 'assistance', 'completely', 'lose', 'eligibility', 'benefits', '', 'federal', 'government', 'ends', 'policies', 'adopted', 'beginning', 'COVID19', 'pandemic', 'kept', 'millions', 'going', 'hungry', 'time', 'lockdowns', 'rising', 'unemployment', '', 'Antihunger', 'advocates', 'warned', 'looming', 'drop', 'aid', 'could', 'undo', 'progress', 'toward', 'Biden', 'administration', 'goal', 'end', 'US', 'hunger', '', 'The', 'Republicancontrolled', 'US', 'House', 'Representatives', 'may', 'also', 'pursue', 'cuts', 'food', 'assistance', 'shrink', 'US', 'deficit', '', '', 'It', '', 'going', 'put', 'millions', 'households', 'risk', 'hunger', '', '', 'said', 'Eric', 'Mitchell', '', 'president', 'Alliance', 'End', 'Hunger', '', 'The', 'changes', 'mean', 'cuts', '', 'month', 'beginning', 'March', 'recipients', 'Supplemental', 'Nutrition', 'Assistance', 'Program', '', 'SNAP', '', 'benefits', '', 'said', 'Ellen', 'Vollinger', 'Food', 'Research', '', 'Action', 'Center', '', 'antihunger', 'group', '', 'The', 'average', 'SNAP', 'benefit', '', 'reduction', '', 'Since', 'Congress', 'passed', 'Families', 'First', 'Coronavirus', 'Response', 'Act', 'March', '', 'states', 'able', 'allocate', 'maximum', 'allowable', 'benefits', 'SNAP', 'recipients', '', 'instead', 'applying', 'deductions', 'tied', 'income', 'factors', '', 'Initially', '', '', 'emergency', 'allotments', '', 'linked', 'pandemic', 'public', 'health', 'emergency', '', 'But', 'December', 'spending', 'bill', 'fight', '', 'Congress', 'negotiated', 'compromise', 'end', 'February', 'exchange', 'new', 'summer', 'food', 'program', 'children', '', 'President', 'Joe', 'Biden', 'administration', 'also', 'said', 'lift', 'coronavirus', 'public', 'health', 'emergency', 'May', '', 'This', 'end', 'changes', 'expanded', 'access', 'SNAP', '', 'like', 'suspension', 'program', 'threemonth', 'time', 'limit', 'adults', 'without', 'children', 'exemptions', 'college', 'students', '', 'In', 'recent', 'months', '', 'additional', 'benefits', 'tied', 'pandemic', 'response', 'come', '', 'billion', 'month', '', 'according', 'Center', 'Budget', 'Policy', 'Priorities', '', 'CBPP', '', '', 'Those', 'higher', 'benefits', 'kept', 'percentage', 'Americans', 'experiencing', 'food', 'insecurity', 'steady', '', '', 'even', 'first', 'two', 'years', 'pandemic', 'drove', 'unemployment', '', 'said', 'Dottie', 'Rosenbaum', '', 'senior', 'fellow', 'director', 'federal', 'SNAP', 'policy', 'CBPP', '', 'Meanwhile', '', 'food', 'insufficiency', '', 'severe', 'form', 'food', 'insecurity', 'wherein', 'households', 'sometimes', 'often', 'enough', 'eat', '', 'dropped', '', '', 'according', 'study', 'Northwestern', 'University', 'Institute', 'Policy', 'Research', '', 'A', 'separate', 'study', 'Urban', 'Institute', 'said', 'benefits', 'kept', 'million', 'people', 'poverty', '', 'Antihunger', 'advocates', 'worry', 'looming', 'reduction', 'aid', 'could', 'reverse', 'gains', '', 'In', 'states', 'expanded', 'benefits', 'already', 'ended', '', '', 'SNAP', 'recipients', 'visited', 'food', 'pantries', 'December', '', 'compared', '', 'states', 'still', 'benefits', '', 'according', 'data', 'collected', 'Propel', '', 'technology', 'company', 'makes', 'financial', 'products', 'lowincome', 'people', '', 'WAY', 'TOO', 'LOW', 'Debate', 'US', 'spending', 'food', 'assistance', 'likely', 'heat', 'coming', 'months', 'lawmakers', 'negotiate', 'new', 'farm', 'bill', '', 'legislative', 'package', 'passed', 'every', 'five', 'years', 'funds', 'nutrition', '', 'commodity', '', 'conservation', 'programs', '', 'More', '', 'current', 'farm', 'bill', '', 'billion', 'price', 'tag', 'went', 'food', 'assistance', 'programs', 'serve', 'million', 'people', 'annually', '', 'The', 'bill', 'expires', 'Sept', '', 'Democrats', 'generally', 'support', 'expanding', 'benefits', '', 'Republicans', 'typically', 'oppose', 'expansion', '', '', 'The', 'SNAP', 'benefit', 'already', 'way', 'low', '', 'even', 'pandemic', '', '', 'Rep', 'Jim', 'McGovern', 'Massachusetts', '', 'Democrat', 'House', 'Agriculture', 'Committee', '', 'told', 'Reuters', 'email', '', '', 'We', 'need', 'seriously', 'boost', 'benefit', 'levels', 'reflect', 'reality', 'food', 'costs', 'today', '', '', 'said', '', 'Food', 'prices', '', 'since', 'last', 'year', '', 'according', 'Bureau', 'Labor', 'Statistics', '', 'House', 'Republicans', 'indicated', 'might', 'review', 'tighten', 'SNAP', 'work', 'requirements', 'part', 'farm', 'bill', 'negotiations', '', 'The', 'House', 'Budget', 'Committee', 'also', 'floated', 'cuts', 'SNAP', 'means', 'reducing', 'spending', 'ongoing', 'debt', 'limit', 'fight', '', 'Reporting', 'Leah', 'Douglas', '', 'Editing', 'David', 'Gregorio', 'Our', 'Standards', '', 'The', 'Thomson', 'Reuters', 'Trust', 'Principles', '']\n"
     ]
    }
   ],
   "source": [
    "for url in list_1:\n",
    "    article = Article(url)\n",
    "    article.download()\n",
    "    article.parse()\n",
    "    tokens = nltk.word_tokenize(article.text)\n",
    "    tokens = [token.replace(\".\", \" \").replace(\",\", \" \").replace(\"?\", \" \").replace('“',\" \").replace(\"”\", \" \").replace(\"!\", \" \").replace(\"(\", \" \").replace(\")\", \" \") for token in tokens]\n",
    "    tokens = [re.sub(r'\\W', '', word) for word in tokens if not re.match(r'^https?:\\/\\/.*[\\r\\n]*', word) and not re.match(r'\\d+', word)]\n",
    "    cleaned_text = [word for word in tokens if word not in stopwords]\n",
    "    print(cleaned_text)"
   ]
  },
  {
   "cell_type": "code",
   "execution_count": 134,
   "id": "d8b4cde8",
   "metadata": {},
   "outputs": [
    {
     "name": "stdout",
     "output_type": "stream",
     "text": [
      "['Feb', '', 'Reuters', '', '', 'Lowincome', 'Americans', 'soon', 'receive', 'less', 'food', 'assistance', 'completely', 'lose', 'eligibility', 'benefits', '', 'federal', 'government', 'ends', 'policies', 'adopted', 'beginning', 'COVID19', 'pandemic', 'kept', 'millions', 'going', 'hungry', 'time', 'lockdowns', 'rising', 'unemployment', '', 'Antihunger', 'advocates', 'warned', 'looming', 'drop', 'aid', 'could', 'undo', 'progress', 'toward', 'Biden', 'administration', 'goal', 'end', 'US', 'hunger', '', 'The', 'Republicancontrolled', 'US', 'House', 'Representatives', 'may', 'also', 'pursue', 'cuts', 'food', 'assistance', 'shrink', 'US', 'deficit', '', '', 'It', '', 'going', 'put', 'millions', 'households', 'risk', 'hunger', '', '', 'said', 'Eric', 'Mitchell', '', 'president', 'Alliance', 'End', 'Hunger', '', 'The', 'changes', 'mean', 'cuts', '', 'month', 'beginning', 'March', 'recipients', 'Supplemental', 'Nutrition', 'Assistance', 'Program', '', 'SNAP', '', 'benefits', '', 'said', 'Ellen', 'Vollinger', 'Food', 'Research', '', 'Action', 'Center', '', 'antihunger', 'group', '', 'The', 'average', 'SNAP', 'benefit', '', 'reduction', '', 'Since', 'Congress', 'passed', 'Families', 'First', 'Coronavirus', 'Response', 'Act', 'March', '', 'states', 'able', 'allocate', 'maximum', 'allowable', 'benefits', 'SNAP', 'recipients', '', 'instead', 'applying', 'deductions', 'tied', 'income', 'factors', '', 'Initially', '', '', 'emergency', 'allotments', '', 'linked', 'pandemic', 'public', 'health', 'emergency', '', 'But', 'December', 'spending', 'bill', 'fight', '', 'Congress', 'negotiated', 'compromise', 'end', 'February', 'exchange', 'new', 'summer', 'food', 'program', 'children', '', 'President', 'Joe', 'Biden', 'administration', 'also', 'said', 'lift', 'coronavirus', 'public', 'health', 'emergency', 'May', '', 'This', 'end', 'changes', 'expanded', 'access', 'SNAP', '', 'like', 'suspension', 'program', 'threemonth', 'time', 'limit', 'adults', 'without', 'children', 'exemptions', 'college', 'students', '', 'In', 'recent', 'months', '', 'additional', 'benefits', 'tied', 'pandemic', 'response', 'come', '', 'billion', 'month', '', 'according', 'Center', 'Budget', 'Policy', 'Priorities', '', 'CBPP', '', '', 'Those', 'higher', 'benefits', 'kept', 'percentage', 'Americans', 'experiencing', 'food', 'insecurity', 'steady', '', '', 'even', 'first', 'two', 'years', 'pandemic', 'drove', 'unemployment', '', 'said', 'Dottie', 'Rosenbaum', '', 'senior', 'fellow', 'director', 'federal', 'SNAP', 'policy', 'CBPP', '', 'Meanwhile', '', 'food', 'insufficiency', '', 'severe', 'form', 'food', 'insecurity', 'wherein', 'households', 'sometimes', 'often', 'enough', 'eat', '', 'dropped', '', '', 'according', 'study', 'Northwestern', 'University', 'Institute', 'Policy', 'Research', '', 'A', 'separate', 'study', 'Urban', 'Institute', 'said', 'benefits', 'kept', 'million', 'people', 'poverty', '', 'Antihunger', 'advocates', 'worry', 'looming', 'reduction', 'aid', 'could', 'reverse', 'gains', '', 'In', 'states', 'expanded', 'benefits', 'already', 'ended', '', '', 'SNAP', 'recipients', 'visited', 'food', 'pantries', 'December', '', 'compared', '', 'states', 'still', 'benefits', '', 'according', 'data', 'collected', 'Propel', '', 'technology', 'company', 'makes', 'financial', 'products', 'lowincome', 'people', '', 'WAY', 'TOO', 'LOW', 'Debate', 'US', 'spending', 'food', 'assistance', 'likely', 'heat', 'coming', 'months', 'lawmakers', 'negotiate', 'new', 'farm', 'bill', '', 'legislative', 'package', 'passed', 'every', 'five', 'years', 'funds', 'nutrition', '', 'commodity', '', 'conservation', 'programs', '', 'More', '', 'current', 'farm', 'bill', '', 'billion', 'price', 'tag', 'went', 'food', 'assistance', 'programs', 'serve', 'million', 'people', 'annually', '', 'The', 'bill', 'expires', 'Sept', '', 'Democrats', 'generally', 'support', 'expanding', 'benefits', '', 'Republicans', 'typically', 'oppose', 'expansion', '', '', 'The', 'SNAP', 'benefit', 'already', 'way', 'low', '', 'even', 'pandemic', '', '', 'Rep', 'Jim', 'McGovern', 'Massachusetts', '', 'Democrat', 'House', 'Agriculture', 'Committee', '', 'told', 'Reuters', 'email', '', '', 'We', 'need', 'seriously', 'boost', 'benefit', 'levels', 'reflect', 'reality', 'food', 'costs', 'today', '', '', 'said', '', 'Food', 'prices', '', 'since', 'last', 'year', '', 'according', 'Bureau', 'Labor', 'Statistics', '', 'House', 'Republicans', 'indicated', 'might', 'review', 'tighten', 'SNAP', 'work', 'requirements', 'part', 'farm', 'bill', 'negotiations', '', 'The', 'House', 'Budget', 'Committee', 'also', 'floated', 'cuts', 'SNAP', 'means', 'reducing', 'spending', 'ongoing', 'debt', 'limit', 'fight', '', 'Reporting', 'Leah', 'Douglas', '', 'Editing', 'David', 'Gregorio', 'Our', 'Standards', '', 'The', 'Thomson', 'Reuters', 'Trust', 'Principles', '']\n"
     ]
    }
   ],
   "source": [
    "print(cleaned_text)"
   ]
  },
  {
   "cell_type": "code",
   "execution_count": 132,
   "id": "2d118a46",
   "metadata": {},
   "outputs": [
    {
     "name": "stdout",
     "output_type": "stream",
     "text": [
      "Defaulting to user installation because normal site-packages is not writeable\n",
      "Collecting vaderSentiment\n",
      "  Downloading vaderSentiment-3.3.2-py2.py3-none-any.whl (125 kB)\n",
      "\u001b[2K     \u001b[38;2;114;156;31m━━━━━━━━━━━━━━━━━━━━━━━━━━━━━━━━━━━━━━━\u001b[0m \u001b[32m126.0/126.0 kB\u001b[0m \u001b[31m5.4 MB/s\u001b[0m eta \u001b[36m0:00:00\u001b[0m\n",
      "\u001b[?25hRequirement already satisfied: requests in /Users/siddansh/Library/Python/3.9/lib/python/site-packages (from vaderSentiment) (2.28.1)\n",
      "Requirement already satisfied: urllib3<1.27,>=1.21.1 in /Users/siddansh/Library/Python/3.9/lib/python/site-packages (from requests->vaderSentiment) (1.26.13)\n",
      "Requirement already satisfied: charset-normalizer<3,>=2 in /Users/siddansh/Library/Python/3.9/lib/python/site-packages (from requests->vaderSentiment) (2.1.1)\n",
      "Requirement already satisfied: idna<4,>=2.5 in /Users/siddansh/Library/Python/3.9/lib/python/site-packages (from requests->vaderSentiment) (3.4)\n",
      "Requirement already satisfied: certifi>=2017.4.17 in /Users/siddansh/Library/Python/3.9/lib/python/site-packages (from requests->vaderSentiment) (2022.12.7)\n",
      "Installing collected packages: vaderSentiment\n",
      "Successfully installed vaderSentiment-3.3.2\n",
      "\n",
      "\u001b[1m[\u001b[0m\u001b[34;49mnotice\u001b[0m\u001b[1;39;49m]\u001b[0m\u001b[39;49m A new release of pip available: \u001b[0m\u001b[31;49m22.3.1\u001b[0m\u001b[39;49m -> \u001b[0m\u001b[32;49m23.0\u001b[0m\n",
      "\u001b[1m[\u001b[0m\u001b[34;49mnotice\u001b[0m\u001b[1;39;49m]\u001b[0m\u001b[39;49m To update, run: \u001b[0m\u001b[32;49m/Applications/Xcode.app/Contents/Developer/usr/bin/python3 -m pip install --upgrade pip\u001b[0m\n",
      "Note: you may need to restart the kernel to use updated packages.\n"
     ]
    }
   ],
   "source": [
    "pip install vaderSentiment"
   ]
  },
  {
   "cell_type": "code",
   "execution_count": 133,
   "id": "99355132",
   "metadata": {},
   "outputs": [],
   "source": [
    "from vaderSentiment.vaderSentiment import SentimentIntensityAnalyzer"
   ]
  },
  {
   "cell_type": "code",
   "execution_count": 145,
   "id": "3e4551de",
   "metadata": {},
   "outputs": [
    {
     "name": "stdout",
     "output_type": "stream",
     "text": [
      "Overall sentiment dictionary is :  {'neg': 0.099, 'neu': 0.825, 'pos': 0.076, 'compound': -0.8287}\n",
      "sentence was rated as  9.9 % Negative\n",
      "sentence was rated as  82.5 % Neutral\n",
      "sentence was rated as  7.6 % Positive\n",
      "Negative\n"
     ]
    }
   ],
   "source": [
    "sid_obj = SentimentIntensityAnalyzer()\n",
    "sentiment_dict = sid_obj.polarity_scores(article.text)\n",
    "print(\"Overall sentiment dictionary is : \", sentiment_dict)\n",
    "print(\"sentence was rated as \", sentiment_dict['neg']*100, \"% Negative\")\n",
    "print(\"sentence was rated as \", sentiment_dict['neu']*100, \"% Neutral\")\n",
    "print(\"sentence was rated as \", sentiment_dict['pos']*100, \"% Positive\")\n",
    "    \n",
    "if sentiment_dict['compound'] >= 0.05 :\n",
    "    print(\"Positive\")\n",
    " \n",
    "elif sentiment_dict['compound'] <= - 0.05 :\n",
    "    print(\"Negative\")\n",
    " \n",
    "else :\n",
    "    print(\"Neutral\")"
   ]
  },
  {
   "cell_type": "code",
   "execution_count": 144,
   "id": "4b262698",
   "metadata": {},
   "outputs": [
    {
     "name": "stdout",
     "output_type": "stream",
     "text": [
      "\n",
      "\n",
      "\n",
      "\n",
      "\n",
      "\n",
      "\n",
      "\n",
      "\n",
      "\n",
      "\n",
      "\n",
      "\n",
      "\n",
      "Feb 16 (Reuters) - Low-income Americans will soon receive less in food assistance or completely lose their eligibility for the benefits, as the federal government ends policies adopted at the beginning of the COVID-19 pandemic that kept millions from going hungry at a time of lockdowns and rising unemployment.\n",
      "\n",
      "Anti-hunger advocates warned that the looming drop in aid could undo progress toward a Biden administration goal to end U.S. hunger by 2030. The Republican-controlled U.S. House of Representatives may also pursue further cuts to food assistance to shrink the U.S. deficit.\n",
      "\n",
      "\"It’s going to put millions of households at risk of hunger,\" said Eric Mitchell, president of the Alliance to End Hunger.\n",
      "\n",
      "The changes mean cuts of about $82 a month beginning in March for recipients of Supplemental Nutrition Assistance Program (SNAP) benefits, said Ellen Vollinger of the Food Research & Action Center, an anti-hunger group. The average SNAP benefit will be about $157 after the reduction.\n",
      "\n",
      "Since Congress passed the Families First Coronavirus Response Act in March 2020, states have been able to allocate the maximum allowable benefits to SNAP recipients, instead of applying deductions tied to income and other factors.\n",
      "\n",
      "Initially, those \"emergency allotments\" were linked to the pandemic public health emergency. But in December's spending bill fight, Congress negotiated a compromise to end them in February in exchange for a new summer food program for children.\n",
      "\n",
      "President Joe Biden's administration has also said it will lift the coronavirus public health emergency in May. This will end other changes that expanded access to SNAP, like a suspension of the program's three-month time limit for adults without children and exemptions for some college students.\n",
      "\n",
      "In recent months, the additional benefits tied to the pandemic response have come to about $3 billion a month, according to the Center on Budget and Policy Priorities (CBPP).\n",
      "\n",
      "Those higher benefits kept the percentage of Americans experiencing food insecurity steady at 10% through 2021, even as the first two years of the pandemic drove up unemployment, said Dottie Rosenbaum, senior fellow and director of federal SNAP policy at CBPP.\n",
      "\n",
      "Meanwhile, food insufficiency - a more severe form of food insecurity wherein households sometimes or often do not have enough to eat - dropped by about 9%, according to a study by Northwestern University's Institute for Policy Research.\n",
      "\n",
      "A separate study from the Urban Institute said the benefits kept 4.2 million people out of poverty. Anti-hunger advocates worry the looming reduction in aid could reverse those gains.\n",
      "\n",
      "In states where expanded benefits have already ended, 29% of SNAP recipients visited food pantries in December, compared to 22% in states that still had the benefits, according to data collected by Propel, a technology company that makes financial products for low-income people.\n",
      "\n",
      "'WAY TOO LOW'\n",
      "\n",
      "Debate over U.S. spending on food assistance is likely to heat up in the coming months as lawmakers negotiate a new farm bill, a legislative package passed every five years that funds nutrition, commodity, and conservation programs.\n",
      "\n",
      "More than 76% of the current farm bill's $428 billion price tag went to food assistance programs that serve 41 million people annually. The bill expires on Sept. 30.\n",
      "\n",
      "Democrats generally support expanding benefits, while Republicans typically oppose expansion.\n",
      "\n",
      "\"The SNAP benefit was already way too low, even before the pandemic,\" Rep. Jim McGovern of Massachusetts, a Democrat on the House Agriculture Committee, told Reuters in an email.\n",
      "\n",
      "“We need to seriously boost benefit levels to reflect the reality of food costs today,\" he said.\n",
      "\n",
      "Food prices are up 10% since last year, according to the Bureau of Labor Statistics.\n",
      "\n",
      "House Republicans have indicated they might review and tighten SNAP work requirements as part of farm bill negotiations.\n",
      "\n",
      "The House Budget Committee has also floated cuts to SNAP as a means of reducing spending in the ongoing debt limit fight.\n",
      "\n",
      "Reporting by Leah Douglas; Editing by David Gregorio\n",
      "\n",
      "\n",
      "\n",
      "\n",
      "\n",
      "\n",
      "\n",
      "\n",
      "\n",
      "\n",
      "\n",
      "Our Standards: The Thomson Reuters Trust Principles.\n"
     ]
    }
   ],
   "source": [
    "print(article.text)"
   ]
  },
  {
   "cell_type": "code",
   "execution_count": null,
   "id": "608ad7f0",
   "metadata": {},
   "outputs": [],
   "source": []
  }
 ],
 "metadata": {
  "kernelspec": {
   "display_name": "Python 3 (ipykernel)",
   "language": "python",
   "name": "python3"
  },
  "language_info": {
   "codemirror_mode": {
    "name": "ipython",
    "version": 3
   },
   "file_extension": ".py",
   "mimetype": "text/x-python",
   "name": "python",
   "nbconvert_exporter": "python",
   "pygments_lexer": "ipython3",
   "version": "3.9.6"
  }
 },
 "nbformat": 4,
 "nbformat_minor": 5
}
