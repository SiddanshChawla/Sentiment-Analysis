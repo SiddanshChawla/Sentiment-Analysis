{
 "cells": [
  {
   "cell_type": "code",
   "execution_count": 1,
   "id": "9c7a0221",
   "metadata": {},
   "outputs": [],
   "source": [
    "import pandas as pd\n",
    "import numpy as np"
   ]
  },
  {
   "cell_type": "code",
   "execution_count": 8,
   "id": "7f1109c1",
   "metadata": {},
   "outputs": [
    {
     "name": "stdout",
     "output_type": "stream",
     "text": [
      "Defaulting to user installation because normal site-packages is not writeable\n",
      "Collecting newsapi-python\n",
      "  Downloading newsapi_python-0.2.6-py2.py3-none-any.whl (7.9 kB)\n",
      "Requirement already satisfied: requests<3.0.0 in /Users/siddansh/Library/Python/3.9/lib/python/site-packages (from newsapi-python) (2.28.1)\n",
      "Requirement already satisfied: urllib3<1.27,>=1.21.1 in /Users/siddansh/Library/Python/3.9/lib/python/site-packages (from requests<3.0.0->newsapi-python) (1.26.13)\n",
      "Requirement already satisfied: certifi>=2017.4.17 in /Users/siddansh/Library/Python/3.9/lib/python/site-packages (from requests<3.0.0->newsapi-python) (2022.12.7)\n",
      "Requirement already satisfied: idna<4,>=2.5 in /Users/siddansh/Library/Python/3.9/lib/python/site-packages (from requests<3.0.0->newsapi-python) (3.4)\n",
      "Requirement already satisfied: charset-normalizer<3,>=2 in /Users/siddansh/Library/Python/3.9/lib/python/site-packages (from requests<3.0.0->newsapi-python) (2.1.1)\n",
      "Installing collected packages: newsapi-python\n",
      "Successfully installed newsapi-python-0.2.6\n",
      "\n",
      "\u001b[1m[\u001b[0m\u001b[34;49mnotice\u001b[0m\u001b[1;39;49m]\u001b[0m\u001b[39;49m A new release of pip available: \u001b[0m\u001b[31;49m22.3.1\u001b[0m\u001b[39;49m -> \u001b[0m\u001b[32;49m23.0\u001b[0m\n",
      "\u001b[1m[\u001b[0m\u001b[34;49mnotice\u001b[0m\u001b[1;39;49m]\u001b[0m\u001b[39;49m To update, run: \u001b[0m\u001b[32;49m/Applications/Xcode.app/Contents/Developer/usr/bin/python3 -m pip install --upgrade pip\u001b[0m\n",
      "Note: you may need to restart the kernel to use updated packages.\n"
     ]
    }
   ],
   "source": [
    "pip install newsapi-python"
   ]
  },
  {
   "cell_type": "code",
   "execution_count": 51,
   "id": "f3ca41d8",
   "metadata": {},
   "outputs": [
    {
     "name": "stdout",
     "output_type": "stream",
     "text": [
      "Defaulting to user installation because normal site-packages is not writeable\n",
      "Collecting newspaper3k\n",
      "  Downloading newspaper3k-0.2.8-py3-none-any.whl (211 kB)\n",
      "\u001b[2K     \u001b[38;2;114;156;31m━━━━━━━━━━━━━━━━━━━━━━━━━━━━━━━━━━━━━━━\u001b[0m \u001b[32m211.1/211.1 kB\u001b[0m \u001b[31m4.8 MB/s\u001b[0m eta \u001b[36m0:00:00\u001b[0m[31m5.9 MB/s\u001b[0m eta \u001b[36m0:00:01\u001b[0m\n",
      "\u001b[?25hRequirement already satisfied: python-dateutil>=2.5.3 in /Users/siddansh/Library/Python/3.9/lib/python/site-packages (from newspaper3k) (2.8.2)\n",
      "Collecting tinysegmenter==0.3\n",
      "  Downloading tinysegmenter-0.3.tar.gz (16 kB)\n",
      "  Preparing metadata (setup.py) ... \u001b[?25ldone\n",
      "\u001b[?25hCollecting PyYAML>=3.11\n",
      "  Using cached PyYAML-6.0-cp39-cp39-macosx_11_0_arm64.whl (173 kB)\n",
      "Requirement already satisfied: lxml>=3.6.0 in /Users/siddansh/Library/Python/3.9/lib/python/site-packages (from newspaper3k) (4.9.2)\n",
      "Requirement already satisfied: nltk>=3.2.1 in /Users/siddansh/Library/Python/3.9/lib/python/site-packages (from newspaper3k) (3.8)\n",
      "Requirement already satisfied: requests>=2.10.0 in /Users/siddansh/Library/Python/3.9/lib/python/site-packages (from newspaper3k) (2.28.1)\n",
      "Requirement already satisfied: tldextract>=2.0.1 in /Users/siddansh/Library/Python/3.9/lib/python/site-packages (from newspaper3k) (3.4.0)\n",
      "Collecting feedparser>=5.2.1\n",
      "  Downloading feedparser-6.0.10-py3-none-any.whl (81 kB)\n",
      "\u001b[2K     \u001b[38;2;114;156;31m━━━━━━━━━━━━━━━━━━━━━━━━━━━━━━━━━━━━━━━\u001b[0m \u001b[32m81.1/81.1 kB\u001b[0m \u001b[31m744.2 kB/s\u001b[0m eta \u001b[36m0:00:00\u001b[0mMB/s\u001b[0m eta \u001b[36m0:00:01\u001b[0m\n",
      "\u001b[?25hCollecting feedfinder2>=0.0.4\n",
      "  Downloading feedfinder2-0.0.4.tar.gz (3.3 kB)\n",
      "  Preparing metadata (setup.py) ... \u001b[?25ldone\n",
      "\u001b[?25hCollecting jieba3k>=0.35.1\n",
      "  Downloading jieba3k-0.35.1.zip (7.4 MB)\n",
      "\u001b[2K     \u001b[38;2;114;156;31m━━━━━━━━━━━━━━━━━━━━━━━━━━━━━━━━━━━━━━━━\u001b[0m \u001b[32m7.4/7.4 MB\u001b[0m \u001b[31m832.7 kB/s\u001b[0m eta \u001b[36m0:00:00\u001b[0mm eta \u001b[36m0:00:01\u001b[0m[36m0:00:01\u001b[0m\n",
      "\u001b[?25h  Preparing metadata (setup.py) ... \u001b[?25ldone\n",
      "\u001b[?25hRequirement already satisfied: Pillow>=3.3.0 in /Users/siddansh/Library/Python/3.9/lib/python/site-packages (from newspaper3k) (9.3.0)\n",
      "Requirement already satisfied: cssselect>=0.9.2 in /Users/siddansh/Library/Python/3.9/lib/python/site-packages (from newspaper3k) (1.2.0)\n",
      "Requirement already satisfied: beautifulsoup4>=4.4.1 in /Users/siddansh/Library/Python/3.9/lib/python/site-packages (from newspaper3k) (4.11.1)\n",
      "Requirement already satisfied: soupsieve>1.2 in /Users/siddansh/Library/Python/3.9/lib/python/site-packages (from beautifulsoup4>=4.4.1->newspaper3k) (2.3.2.post1)\n",
      "Requirement already satisfied: six in /Applications/Xcode.app/Contents/Developer/Library/Frameworks/Python3.framework/Versions/3.9/lib/python3.9/site-packages (from feedfinder2>=0.0.4->newspaper3k) (1.15.0)\n",
      "Collecting sgmllib3k\n",
      "  Downloading sgmllib3k-1.0.0.tar.gz (5.8 kB)\n",
      "  Preparing metadata (setup.py) ... \u001b[?25ldone\n",
      "\u001b[?25hRequirement already satisfied: click in /Users/siddansh/Library/Python/3.9/lib/python/site-packages (from nltk>=3.2.1->newspaper3k) (8.1.3)\n",
      "Requirement already satisfied: joblib in /Users/siddansh/Library/Python/3.9/lib/python/site-packages (from nltk>=3.2.1->newspaper3k) (1.2.0)\n",
      "Requirement already satisfied: regex>=2021.8.3 in /Users/siddansh/Library/Python/3.9/lib/python/site-packages (from nltk>=3.2.1->newspaper3k) (2022.10.31)\n",
      "Requirement already satisfied: tqdm in /Users/siddansh/Library/Python/3.9/lib/python/site-packages (from nltk>=3.2.1->newspaper3k) (4.64.1)\n",
      "Requirement already satisfied: charset-normalizer<3,>=2 in /Users/siddansh/Library/Python/3.9/lib/python/site-packages (from requests>=2.10.0->newspaper3k) (2.1.1)\n",
      "Requirement already satisfied: certifi>=2017.4.17 in /Users/siddansh/Library/Python/3.9/lib/python/site-packages (from requests>=2.10.0->newspaper3k) (2022.12.7)\n",
      "Requirement already satisfied: idna<4,>=2.5 in /Users/siddansh/Library/Python/3.9/lib/python/site-packages (from requests>=2.10.0->newspaper3k) (3.4)\n",
      "Requirement already satisfied: urllib3<1.27,>=1.21.1 in /Users/siddansh/Library/Python/3.9/lib/python/site-packages (from requests>=2.10.0->newspaper3k) (1.26.13)\n",
      "Requirement already satisfied: filelock>=3.0.8 in /Users/siddansh/Library/Python/3.9/lib/python/site-packages (from tldextract>=2.0.1->newspaper3k) (3.8.2)\n",
      "Requirement already satisfied: requests-file>=1.4 in /Users/siddansh/Library/Python/3.9/lib/python/site-packages (from tldextract>=2.0.1->newspaper3k) (1.5.1)\n",
      "Building wheels for collected packages: tinysegmenter, feedfinder2, jieba3k, sgmllib3k\n",
      "  Building wheel for tinysegmenter (setup.py) ... \u001b[?25ldone\n",
      "\u001b[?25h  Created wheel for tinysegmenter: filename=tinysegmenter-0.3-py3-none-any.whl size=13540 sha256=f2ddaa37c9e79c0ad952d9577acb081474594f82277367a8e975cb326c6fface\n",
      "  Stored in directory: /Users/siddansh/Library/Caches/pip/wheels/e9/bd/bc/775f8c348e77199b81c54f0eae203ec3328c3ff6678199af53\n",
      "  Building wheel for feedfinder2 (setup.py) ... \u001b[?25ldone\n",
      "\u001b[?25h  Created wheel for feedfinder2: filename=feedfinder2-0.0.4-py3-none-any.whl size=3341 sha256=8927836a796265a3d3b4e808fb206078c301f5ab8436bdd0c51e61da7fcd2e5a\n",
      "  Stored in directory: /Users/siddansh/Library/Caches/pip/wheels/c4/ef/21/80dce75dfac58c5d3afbbd56093cd9aaf16aebacea63ed478e\n",
      "  Building wheel for jieba3k (setup.py) ... \u001b[?25ldone\n",
      "\u001b[?25h  Created wheel for jieba3k: filename=jieba3k-0.35.1-py3-none-any.whl size=7398381 sha256=398608127b4c8d0d7bfb0f6525e87cf84e3af73cee48dfc8ba3cf0687410e3ce\n",
      "  Stored in directory: /Users/siddansh/Library/Caches/pip/wheels/7e/90/13/9595f17d4f8a6ce036a2fc15457a3d99642b2e16886f161d43\n",
      "  Building wheel for sgmllib3k (setup.py) ... \u001b[?25ldone\n",
      "\u001b[?25h  Created wheel for sgmllib3k: filename=sgmllib3k-1.0.0-py3-none-any.whl size=6048 sha256=bde8137cb73fde7e010580c6ed42a980c83bbffa5cbe4e0c5ef3e3617e51dd54\n",
      "  Stored in directory: /Users/siddansh/Library/Caches/pip/wheels/00/a1/4a/3aaa30857be3b96a4a11fccfa1336686def7d898b8be2509dd\n",
      "Successfully built tinysegmenter feedfinder2 jieba3k sgmllib3k\n",
      "Installing collected packages: tinysegmenter, sgmllib3k, jieba3k, PyYAML, feedparser, feedfinder2, newspaper3k\n",
      "Successfully installed PyYAML-6.0 feedfinder2-0.0.4 feedparser-6.0.10 jieba3k-0.35.1 newspaper3k-0.2.8 sgmllib3k-1.0.0 tinysegmenter-0.3\n",
      "\n",
      "\u001b[1m[\u001b[0m\u001b[34;49mnotice\u001b[0m\u001b[1;39;49m]\u001b[0m\u001b[39;49m A new release of pip available: \u001b[0m\u001b[31;49m22.3.1\u001b[0m\u001b[39;49m -> \u001b[0m\u001b[32;49m23.0\u001b[0m\n",
      "\u001b[1m[\u001b[0m\u001b[34;49mnotice\u001b[0m\u001b[1;39;49m]\u001b[0m\u001b[39;49m To update, run: \u001b[0m\u001b[32;49m/Applications/Xcode.app/Contents/Developer/usr/bin/python3 -m pip install --upgrade pip\u001b[0m\n",
      "Note: you may need to restart the kernel to use updated packages.\n"
     ]
    }
   ],
   "source": [
    "pip install newspaper3k"
   ]
  },
  {
   "cell_type": "code",
   "execution_count": 9,
   "id": "2e704677",
   "metadata": {},
   "outputs": [],
   "source": [
    "from newsapi import NewsApiClient"
   ]
  },
  {
   "cell_type": "code",
   "execution_count": 43,
   "id": "293d31d9",
   "metadata": {},
   "outputs": [],
   "source": [
    "from newsapi import NewsApiClient\n",
    "\n",
    "# Init\n",
    "newsapi = NewsApiClient(api_key='0eab831ebf9c402ba6f4f2312b355ad6')\n",
    "\n",
    "\n",
    "all_articles = newsapi.get_everything(q='Biden',\n",
    "                                      from_param='2023-02-16',\n",
    "                                      sources = 'reuters',\n",
    "                                      language='en',\n",
    "                                      sort_by='popularity')\n",
    "\n",
    "# /v2/top-headlines/sources\n",
    "sources = newsapi.get_sources()"
   ]
  },
  {
   "cell_type": "code",
   "execution_count": 103,
   "id": "da2c467e",
   "metadata": {},
   "outputs": [
    {
     "name": "stdout",
     "output_type": "stream",
     "text": [
      "2\n"
     ]
    }
   ],
   "source": [
    "print(all_articles['totalResults'])"
   ]
  },
  {
   "cell_type": "code",
   "execution_count": 52,
   "id": "1e22502a",
   "metadata": {},
   "outputs": [],
   "source": [
    "from newspaper import Article"
   ]
  },
  {
   "cell_type": "code",
   "execution_count": 104,
   "id": "9d92cc27",
   "metadata": {},
   "outputs": [
    {
     "name": "stdout",
     "output_type": "stream",
     "text": [
      "['https://www.reuters.com/world/us/fbi-searched-university-delaware-biden-documents-probe-cnn-2023-02-16/', 'https://www.reuters.com/world/europe/russia-says-us-should-prove-it-did-not-destroy-nord-stream-2023-02-16/']\n"
     ]
    }
   ],
   "source": [
    "list_1 = []\n",
    "for i in range(0, all_articles['totalResults']):\n",
    "    list_1.append(all_articles['articles'][i]['url'])\n",
    "print(list_1)"
   ]
  },
  {
   "cell_type": "code",
   "execution_count": 105,
   "id": "d3c93e2c",
   "metadata": {},
   "outputs": [
    {
     "name": "stdout",
     "output_type": "stream",
     "text": [
      "\n",
      "\n",
      "\n",
      "\n",
      "\n",
      "\n",
      "\n",
      "\n",
      "\n",
      "\n",
      "\n",
      "\n",
      "\n",
      "\n",
      "Feb 15 (Reuters) - The FBI carried out two searches in recent weeks at the University of Delaware in connection to a probe into President Joe Biden's handling of classified documents, CNN reported on Wednesday, citing an unnamed source familiar with the investigation.\n",
      "\n",
      "The searches occurred with the consent and cooperation of Biden's legal team, the report added. The White House and FBI both declined to comment to Reuters and referred queries to the U.S. Department of Justice.\n",
      "\n",
      "Neither the Justice Department nor the University of Delaware immediately responded to separate emailed requests for comment from Reuters.\n",
      "\n",
      "Earlier this month, Biden's attorney said the U.S. Justice Department did not find documents with classified markings during a three-and-a-half hour search of the president's beach house in Rehoboth, Delaware, but did take some materials for further review.\n",
      "\n",
      "Materials were previously found at his home in Wilmington, Delaware, and at a Washington office he used during the time between his service as vice president under Barack Obama and his presidential election.\n",
      "\n",
      "The issue has created a political headache for Biden, who is expected to announce a re-election campaign in the coming weeks or months.\n",
      "\n",
      "Biden donated papers from his tenure as Delaware senator between 1973 and 2009 to the University of Delaware, according to the institution's website.\n",
      "\n",
      "\"Until the archival process is complete and the collection is opened to the public, access is only available with President Biden's express consent,\" it says, adding that Biden and his designees have access under supervision of Special Collections.\n",
      "\n",
      "Wednesday's CNN report said investigators retrieved materials that did not appear to have classified markings, but were now being reviewed by the FBI.\n",
      "\n",
      "Reporting by Costas Pitas in Los Angeles; additional reporting by Dan Whitcomb in Los Angeles and Jeff Mason in Washington; Editing by Chris Reese and Christopher Cushing\n",
      "\n",
      "\n",
      "\n",
      "\n",
      "\n",
      "\n",
      "\n",
      "\n",
      "\n",
      "\n",
      "\n",
      "Our Standards: The Thomson Reuters Trust Principles.\n",
      "\n",
      "\n",
      "\n",
      "\n",
      "\n",
      "\n",
      "\n",
      "\n",
      "\n",
      "\n",
      "\n",
      "\n",
      "\n",
      "\n",
      "Feb 16 (Reuters) - The United States should try to prove it was not behind the destruction of the Nord Stream gas pipelines that connected Russia to Western Europe, the Russian embassy to the United States said on Thursday.\n",
      "\n",
      "Moscow considers the destruction of Nord Stream 1 and Nord Stream 2 pipelines last September \"an act of international terrorism\" and will not allow it to be swept under the rug, the embassy said in a statement.\n",
      "\n",
      "The embassy referred to a blog post by journalist Seymour Hersh citing an unidentified source as saying that U.S. Navy divers had destroyed the pipelines with explosives on the orders of President Joe Biden.\n",
      "\n",
      "The White House has dismissed the allegations as \"utterly false and complete fiction\".\n",
      "\n",
      "U.S. Department of State spokesman Ned Price said on Wednesday \"it is pure disinformation that the United States was behind what transpired\" with Nord Stream, provoking the fresh Russian comment.\n",
      "\n",
      "Reporting by Olzhas Auyezov; Editing by Jacqueline Wong and Tom Hogue\n",
      "\n",
      "\n",
      "\n",
      "\n",
      "\n",
      "\n",
      "\n",
      "\n",
      "\n",
      "\n",
      "\n",
      "Our Standards: The Thomson Reuters Trust Principles.\n"
     ]
    }
   ],
   "source": [
    "for url in list_1:\n",
    "    article = Article(url)\n",
    "    article.download()\n",
    "    article.parse()\n",
    "    print(article.text)"
   ]
  }
 ],
 "metadata": {
  "kernelspec": {
   "display_name": "Python 3 (ipykernel)",
   "language": "python",
   "name": "python3"
  },
  "language_info": {
   "codemirror_mode": {
    "name": "ipython",
    "version": 3
   },
   "file_extension": ".py",
   "mimetype": "text/x-python",
   "name": "python",
   "nbconvert_exporter": "python",
   "pygments_lexer": "ipython3",
   "version": "3.9.6"
  }
 },
 "nbformat": 4,
 "nbformat_minor": 5
}
